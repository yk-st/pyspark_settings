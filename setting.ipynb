{
 "cells": [
  {
   "cell_type": "markdown",
   "metadata": {},
   "source": [
    "# Vsodeのインストール\n",
    "お使いのインストーラーをダウンロードしてインストールしてください  \n",
    "https://code.visualstudio.com/download"
   ]
  },
  {
   "cell_type": "markdown",
   "metadata": {},
   "source": [
    "# Python Extentionの設定\n",
    "\n",
    "1. cmd shift p ー＞　「python」をインストール\n",
    "\n",
    "## ノートブックを開くためには\n",
    "cmd shift p -> 「cretate ju」をタイプし「create jupyter notebook」を選択します"
   ]
  },
  {
   "cell_type": "markdown",
   "metadata": {},
   "source": [
    "# Javaのインストール\n",
    "もしお使いのPCにJavaがインストールされていない場合はJava8か11をインストールお願いします。\n",
    "\n",
    "# 【Macの場合】\n",
    "brew update\n",
    "brew install java11\n",
    "## ZSHの場合(Bashの場合は~/.bash_profile)\n",
    "echo 'export PATH=\"/opt/homebrew/opt/openjdk@11/bin:$PATH\"' >> ~/.zshrc  \n",
    "export CPPFLAGS=\"-I/opt/homebrew/opt/openjdk@11/include\" >> ~/.zshrc  \n",
    "source ~/.zshrc  \n",
    "\n",
    "※brewのインストールはこちら\n",
    "https://brew.sh/  \n",
    "\n",
    "# 【Windowsの場合】\n",
    "https://www.oracle.com/java/technologies/downloads/#java11  \n",
    "でJDKをダウンロードしてください\n",
    "\n",
    "## setting.jsonの変更\n",
    "cmd shift pを押して「settings.json」と打ち込みます「Open Setitngs Jsonを開きます」\n",
    "java.homeを追加します（以下は私の例です）\n",
    "\n",
    "```\n",
    "{\n",
    "    \"workbench.colorTheme\": \"Default Dark+\",\n",
    "    \"window.zoomLevel\": 3,\n",
    "    \"editor.suggestSelection\": \"first\",\n",
    "    \"vsintellicode.modify.editor.suggestSelection\": \"automaticallyOverrodeDefaultValue\",\n",
    "    \"java.home\": \"/opt/homebrew/opt/openjdk@11/bin\",\n",
    "}\n",
    "```"
   ]
  },
  {
   "cell_type": "markdown",
   "metadata": {},
   "source": [
    "# mysqlのインストール\n",
    "\n",
    "バージョンは5.7系をインストールします\n",
    "\n",
    "MacBookの場合\n",
    "1. brew install mysql  \n",
    "※brewのインストールは「https://brew.sh/」よりお願いします\n",
    "\n",
    "2. brew install mysql@5.7\n",
    "3. brew services start mysql@5.7\n",
    "4. brew services restart mysql@5.7\n",
    "5. echo 'export PATH=\"/opt/homebrew/opt/mysql@5.7/bin:$PATH\"' >> ~/.zshrc\n",
    "5. mysql -uroot\n",
    "6. ALTER USER 'root'@'localhost' IDENTIFIED BY 'root';   パスワードを設定します\n",
    "\n",
    "Windowsの場合  \n",
    "以下のインストーラーをご利用ください\n",
    "https://dev.mysql.com/downloads/installer/\n",
    "\n",
    "## インストールがうまく行かない場合(Mac)\n",
    "brew services stop mysql@5.7\n",
    "\n",
    "```\n",
    "sudo rm -rf /opt/homebrew/Cellar/mysql*\n",
    "sudo rm -rf /opt/homebrew/bin/mysql*\n",
    "sudo rm -rf /opt/homebrew/var/mysql*\n",
    "sudo rm -rf /opt/homebrew/etc/my.cnf\n",
    "sudo rm -rf /opt/homebrew/share/mysql*\n",
    "sudo rm -rf /opt/homebrew/opt/mysql*\n",
    "sudo rm -rf /etc/my.cnf\n",
    "\n",
    "sudo rm -rf /usr/local/Cellar/mysql*\n",
    "sudo rm -rf /usr/local/bin/mysql*\n",
    "sudo rm -rf /usr/local/var/mysql*\n",
    "sudo rm -rf /usr/local/etc/my.cnf\n",
    "sudo rm -rf /usr/local/share/mysql*\n",
    "sudo rm -rf /usr/local/opt/mysql*\n",
    "sudo rm -rf /etc/my.cnf\n",
    "```\n",
    "\n",
    "してから再度インストールしてみてください\n"
   ]
  },
  {
   "cell_type": "markdown",
   "metadata": {},
   "source": [
    "# Sparkのインストール\n",
    "\n",
    "MacBookの場合\n",
    "\n",
    "```\n",
    "brew install apache-spark  \n",
    "echo \"export SPARK_HOME=/opt/homebrew/opt/apache-spark/libexec/\" >> ~/.zshrc  \n",
    "echo \"export \"PATH=${PATH}:${SPARK_HOME}/\" >> ~/.zshrc  \n",
    "```\n",
    "\n",
    "Windowsの場合  \n",
    "\n",
    "```\n",
    "以下よりtar.gzをダウンロードし解凍する\n",
    "https://spark.apache.org/downloads.html\n",
    "システムの環境変数に\n",
    "SPARK_HOMEとPATHの設定を行う(SPARK_HOMEは解凍したディレクトリになります)\n",
    "```\n",
    "\n",
    "※パスは環境ごとに違う可能性があります。"
   ]
  },
  {
   "cell_type": "markdown",
   "metadata": {},
   "source": [
    "# もし既に簡易版pysparkが入っている方は削除しておきましょう\n",
    "pip3 uninstall pyspark --y \n",
    "\n",
    "## findsparkのインストール\n",
    "pip install findspark --y  "
   ]
  },
  {
   "cell_type": "code",
   "execution_count": null,
   "metadata": {},
   "outputs": [],
   "source": [
    "# コンソールで設定したSparkとNoteBookを接続します(動かす前に毎度実行する必要があります)\n",
    "import findspark\n",
    "findspark.init()"
   ]
  },
  {
   "cell_type": "code",
   "execution_count": null,
   "metadata": {},
   "outputs": [],
   "source": [
    "#pysparkに必要なライブラリを読み込む\n",
    "from pyspark import SparkConf\n",
    "from pyspark import SparkContext\n",
    "from pyspark.sql import SparkSession\n",
    "\n",
    "#問題なく実行できればOKです"
   ]
  },
  {
   "cell_type": "markdown",
   "metadata": {},
   "source": [
    "\n",
    "# Hive MetaStoreの設定\n",
    "同梱しているhive-site.xmlを設定してMysqlをメタストアにします。  \n",
    "SPARK_HOMEの位置によって場所は異なりますので適宜切り替えをお願いします。  \n",
    "\n",
    "\n",
    "## mysqlドライバをインストールします\n",
    "私の環境では$SPARK_HOME/jars配下への格納です。  \n",
    "/opt/homebrew/opt/apache-spark/libexec/jars  \n",
    "\n",
    "URL:  \n",
    "https://dev.mysql.com/downloads/  \n",
    "「JDBC Driver for MySQL (Connector/J)」をダウンロードします  \n",
    "\n",
    "以下のコマンドで解凍します。  \n",
    "tar -xzvf mysql-connector-java-8.0.27.tar.gz  \n",
    "\n",
    "以下のファイルがドライバーなので「/opt/homebrew/opt/apache-spark/libexec/jars」直下にファイルを移動します  \n",
    "「mysql-connector-java-8.0.27.jar」  \n",
    "\n",
    "## hive-site.xmlの設定\n",
    "同梱しているhive-site.xmlを「/opt/homebrew/opt/apache-spark/libexec/conf」へ配置します。\n"
   ]
  },
  {
   "cell_type": "code",
   "execution_count": null,
   "metadata": {},
   "outputs": [],
   "source": [
    "#pysparkに必要なライブラリを読み込む\n",
    "\n",
    "from pyspark import SparkConf\n",
    "from pyspark import SparkContext\n",
    "from pyspark.sql import SparkSession\n",
    "\n",
    "#spark sessionの作成\n",
    "# spark.ui.enabled trueとするとSparkのGUI画面を確認することができます\n",
    "# spark.eventLog.enabled true　とすると　GUIで実行ログを確認することができます\n",
    "# GUIなどの確認は最後のセクションで説明を行います。\n",
    "spark = SparkSession.builder \\\n",
    "    .appName(\"chapter1\") \\\n",
    "    .config(\"hive.exec.dynamic.partition\", \"true\") \\\n",
    "    .config(\"hive.exec.dynamic.partition.mode\", \"nonstrict\") \\\n",
    "    .config(\"spark.sql.session.timeZone\", \"JST\") \\\n",
    "    .config(\"spark.ui.enabled\",\"true\") \\\n",
    "    .config(\"spark.eventLog.enabled\",\"true\") \\\n",
    "    .enableHiveSupport() \\\n",
    "    .getOrCreate()\n",
    "\n",
    "spark.sql(\"show tables\").show() \n",
    "\n",
    "# 空の結果が表示されればOKです"
   ]
  },
  {
   "cell_type": "markdown",
   "metadata": {},
   "source": [
    "# エラーになってしまう場合\n",
    "\n",
    "## hiveをクローン\n",
    "https://github.com/apache/hive\n",
    "\n",
    "## メタストアをオリジナルから作成する\n",
    "1. cd /Users/saitouyuuki/Desktop/src/hive/metastore/scripts/upgrade/mysql\n",
    "2. mysql -uroot -proot\n",
    "3. use metastore\n",
    "4. source hive-schema-2.3.0.mysql.sql\n",
    "5. source hive-txn-schema-2.3.0.mysql.sql\n",
    "場合によってはdrop database metastoreを実行したのちcreate database metastoreを実行してみてください。"
   ]
  }
 ],
 "metadata": {
  "interpreter": {
   "hash": "578f5f657c2fb65ecadb997ad60e5cf2da380ecec34305a6dd913dc5b96e257c"
  },
  "kernelspec": {
   "display_name": "Python 3.9.1 64-bit ('3.9.1': pyenv)",
   "language": "python",
   "name": "python3"
  },
  "language_info": {
   "codemirror_mode": {
    "name": "ipython",
    "version": 3
   },
   "file_extension": ".py",
   "mimetype": "text/x-python",
   "name": "python",
   "nbconvert_exporter": "python",
   "pygments_lexer": "ipython3",
   "version": "3.9.1"
  },
  "orig_nbformat": 4
 },
 "nbformat": 4,
 "nbformat_minor": 2
}
